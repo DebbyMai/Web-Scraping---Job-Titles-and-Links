{
  "nbformat": 4,
  "nbformat_minor": 0,
  "metadata": {
    "colab": {
      "name": "Debz_Data Science: Web Scraping with Python",
      "provenance": [],
      "collapsed_sections": [],
      "toc_visible": true
    },
    "kernelspec": {
      "name": "python3",
      "display_name": "Python 3"
    }
  },
  "cells": [
    {
      "cell_type": "markdown",
      "metadata": {
        "id": "7i5A-UY4Yruf"
      },
      "source": [
        "<font color='#2F4F4F'>To use this notebook on Colaboratory, you will need to make a copy of it. Go to File > Save a Copy in Drive. You can then use the new copy that will appear in the new tab.</font>\n"
      ]
    },
    {
      "cell_type": "markdown",
      "metadata": {
        "id": "0rOdcI2Nzhky"
      },
      "source": [
        "# <font color='#2F4F4F'>AfterWork Data Science: Web Scraping with Python</font>"
      ]
    },
    {
      "cell_type": "markdown",
      "metadata": {
        "id": "Tcso2rJCNAGq"
      },
      "source": [
        "## <font color='#2F4F4F'>Prerequisites</font>"
      ]
    },
    {
      "cell_type": "code",
      "metadata": {
        "id": "QSHljMZTNCRI"
      },
      "source": [
        "# We first import the required libraries\n",
        "# ---\n",
        "#\n",
        "import pandas as pd             # library for data manupation\n",
        "import requests                 # library for fetching a web page \n",
        "from bs4 import BeautifulSoup   # library for extrating contents from a webpage \n",
        "pd.set_option('display.max_colwidth', None)"
      ],
      "execution_count": 101,
      "outputs": []
    },
    {
      "cell_type": "markdown",
      "metadata": {
        "id": "CRmt1rRHgZRG"
      },
      "source": [
        "## <font color='#2F4F4F'>Step 1: Obtaining our Data</font>"
      ]
    },
    {
      "cell_type": "code",
      "metadata": {
        "id": "cM5TKD-P1h7Z",
        "colab": {
          "base_uri": "https://localhost:8080/"
        },
        "outputId": "9d67ffcb-533d-4577-b486-56048a533dcf"
      },
      "source": [
        "# PigiaMe: https://www.pigiame.co.ke/it-software-jobs\n",
        "# ---\n",
        "#\n",
        "pigia_me = requests.get('https://www.pigiame.co.ke/it-software-jobs')\n",
        "pigia_me"
      ],
      "execution_count": 102,
      "outputs": [
        {
          "output_type": "execute_result",
          "data": {
            "text/plain": [
              "<Response [200]>"
            ]
          },
          "metadata": {},
          "execution_count": 102
        }
      ]
    },
    {
      "cell_type": "code",
      "metadata": {
        "id": "OfUvfxrD1nQC",
        "colab": {
          "base_uri": "https://localhost:8080/"
        },
        "outputId": "5c80759d-3334-49a6-e8f8-d6158cc71b28"
      },
      "source": [
        "# MyJobMag: https://www.myjobmag.co.ke/jobs-by-field/information-technology\n",
        "# ---\n",
        "#\n",
        "MyJobMag = requests.get('https://www.myjobmag.co.ke/jobs-by-field/information-technology')\n",
        "MyJobMag"
      ],
      "execution_count": 103,
      "outputs": [
        {
          "output_type": "execute_result",
          "data": {
            "text/plain": [
              "<Response [200]>"
            ]
          },
          "metadata": {},
          "execution_count": 103
        }
      ]
    },
    {
      "cell_type": "code",
      "metadata": {
        "id": "psWrYhRUQDJC",
        "colab": {
          "base_uri": "https://localhost:8080/"
        },
        "outputId": "4541cb56-b394-48b4-81a8-0a26ec43f629"
      },
      "source": [
        "# KenyanJob: https://www.kenyajob.com/job-vacancies-search-kenya?f%5B0%5D=im_field_offre_secteur%3A133\n",
        "# ---\n",
        "#\n",
        "KenyanJob = requests.get('https://www.kenyajob.com/job-vacancies-search-kenya?f%5B0%5D=im_field_offre_secteur%3A133')\n",
        "KenyanJob"
      ],
      "execution_count": 104,
      "outputs": [
        {
          "output_type": "execute_result",
          "data": {
            "text/plain": [
              "<Response [200]>"
            ]
          },
          "metadata": {},
          "execution_count": 104
        }
      ]
    },
    {
      "cell_type": "markdown",
      "metadata": {
        "id": "h7iRb8U8hHNw"
      },
      "source": [
        "## <font color='#2F4F4F'>Step 2: Parsing</font>"
      ]
    },
    {
      "cell_type": "code",
      "metadata": {
        "id": "AXWSK1kD2oeN"
      },
      "source": [
        "# Parsing our document: pigia_me\n",
        "# ---\n",
        "# \n",
        "\n",
        "soup = BeautifulSoup(pigia_me.text, \"html.parser\")\n",
        "# print(soup.prettify())"
      ],
      "execution_count": 105,
      "outputs": []
    },
    {
      "cell_type": "code",
      "metadata": {
        "id": "lrH9mgR82pzg"
      },
      "source": [
        "# Parsing our document: my_job_mag\n",
        "# ---\n",
        "#  \n",
        "soup1 = BeautifulSoup(MyJobMag.text, \"html.parser\")"
      ],
      "execution_count": 106,
      "outputs": []
    },
    {
      "cell_type": "code",
      "metadata": {
        "id": "O0x-Wz03QP5O"
      },
      "source": [
        "# Parsing our document: kenyan_job\n",
        "# ---\n",
        "# \n",
        "soup2 = BeautifulSoup(KenyanJob.text, \"html.parser\")"
      ],
      "execution_count": 107,
      "outputs": []
    },
    {
      "cell_type": "markdown",
      "metadata": {
        "id": "_OxuOAIXhPl5"
      },
      "source": [
        "## <font color='#2F4F4F'>Step 3: Extracting Required Elements</font>"
      ]
    },
    {
      "cell_type": "code",
      "source": [
        "#Extracting job titles & link: pigia_me"
      ],
      "metadata": {
        "id": "54f3TtVerE5v"
      },
      "execution_count": null,
      "outputs": []
    },
    {
      "cell_type": "code",
      "source": [
        "results = soup.find_all('div', attrs={'class': 'listings-cards__list-item'})\n",
        "results[0]"
      ],
      "metadata": {
        "colab": {
          "base_uri": "https://localhost:8080/"
        },
        "id": "eSreetmKWMSM",
        "outputId": "cd2c162d-3fb1-4af5-c1e5-174424d1628c"
      },
      "execution_count": 108,
      "outputs": [
        {
          "output_type": "execute_result",
          "data": {
            "text/plain": [
              "<div class=\"listings-cards__list-item\"><div class=\"listing-card listing-card--tab listing-card--has-content listing-card--highlight-placeholder\"><a class=\"listing-card__inner\" data-t-listing=\"\" data-t-listing_category_slug=\"it-software-jobs\" data-t-listing_category_title=\"IT &amp; Software Jobs\" data-t-listing_context=\"search\" data-t-listing_currency=\"\" data-t-listing_id=\"3887056\" data-t-listing_location_title=\"Nairobi CBD\" data-t-listing_price=\"0\" data-t-listing_product_slugs=\"listing\" data-t-listing_slug=\"senior-software-engineer\" data-t-listing_source=\"bm_ke\" data-t-listing_title=\"Senior Software Engineer\" data-t-listing_type=\"classified\" href=\"https://www.pigiame.co.ke/listings/senior-software-engineer-3887056\" id=\"listing-3887056\"><div class=\"listing-card__aside\"><div class=\"listing-card__image\"><div class=\"listing-card__image__inner-container\"><svg aria-hidden=\"true\" class=\"i i-jobs listing-card__image__placeholder\"><use xlink:href=\"https://www.pigiame.co.ke/assets/pi-site/icons/category.100b12f8.svg#jobs\"></use></svg><svg aria-hidden=\"true\" class=\"i i-bm_ke listing-card__image__placeholder listing-card__image__placeholder--scs\"><use xlink:href=\"https://www.pigiame.co.ke/assets/pi-site/icons/scs.391fdd56.svg#bm_ke\"></use></svg></div></div></div><div class=\"listing-card__content\"><div class=\"listing-card__content__inner\"><div class=\"listing-card__header\"><div class=\"listing-card__header-content\"><div class=\"listing-card__header__title\">\n",
              "Senior Software Engineer\n",
              "</div><div class=\"listing-card__header__tags\"><span class=\"listing-card__header__tags__item listing-card__header__tags__item--work-type listing-card__header__tags__item--work-type_full-time\">Full time</span><span class=\"listing-card__header__tags__item listing-card__header__tags__item--employer listing-card__header__tags__item--employer_microsoft\">Microsoft</span></div><div class=\"listing-card__header__location\"><svg aria-hidden=\"true\" class=\"i i-gmaps \"><use xlink:href=\"https://www.pigiame.co.ke/assets/pi-site/icons/map.c8b05538.svg#gmaps\"></use></svg>\n",
              "Nairobi CBD,\n",
              "Nairobi\n",
              "</div></div></div><div class=\"listing-card__date-line\"><div class=\"listing-card__header__date\">\n",
              "Saturday, 11:41\n",
              "</div></div></div></div></a></div></div>"
            ]
          },
          "metadata": {},
          "execution_count": 108
        }
      ]
    },
    {
      "cell_type": "code",
      "source": [
        "pigiamie_url = []\n",
        "pigiamie_titles = []\n",
        "\n",
        "for div in results: \n",
        "  links = div.find_all('a')\n",
        "  titles = div.find_all('div', attrs={'class': 'listing-card__header__title'})\n",
        "  for link in links:\n",
        "    url = link.get('href')\n",
        "    pigiamie_url.append(url)\n",
        "  for title in titles:\n",
        "    jobs = title.get_text().strip()\n",
        "    pigiamie_titles.append(jobs)"
      ],
      "metadata": {
        "id": "bveJHDwlW4S2"
      },
      "execution_count": 109,
      "outputs": []
    },
    {
      "cell_type": "code",
      "source": [
        "pigiamie_url"
      ],
      "metadata": {
        "colab": {
          "base_uri": "https://localhost:8080/"
        },
        "id": "-5AHbFRgZHwt",
        "outputId": "f9e5e812-5098-470f-be71-d2afdc957236"
      },
      "execution_count": 110,
      "outputs": [
        {
          "output_type": "execute_result",
          "data": {
            "text/plain": [
              "['https://www.pigiame.co.ke/listings/senior-software-engineer-3887056',\n",
              " 'https://www.pigiame.co.ke/listings/academic-cloud-advocate-machine-learning-and-ai-developer-3887037',\n",
              " 'https://www.pigiame.co.ke/listings/academic-cloud-advocate-developer-tools-and-application-architecture-3887022',\n",
              " 'https://www.pigiame.co.ke/listings/computer-literate-3884819',\n",
              " 'https://www.pigiame.co.ke/listings/software-engineer-karen-kenya-3881204',\n",
              " 'https://www.pigiame.co.ke/listings/full-stack-software-developer-3880995',\n",
              " 'https://www.pigiame.co.ke/listings/database-administrator-i-3874948',\n",
              " 'https://www.pigiame.co.ke/listings/mobile-app-developer-3869264',\n",
              " 'https://www.pigiame.co.ke/listings/junior-data-analyst-agriculture-nairobi-kenya-3857270',\n",
              " 'https://www.pigiame.co.ke/listings/software-systems-supervisor-urgent-3849477']"
            ]
          },
          "metadata": {},
          "execution_count": 110
        }
      ]
    },
    {
      "cell_type": "code",
      "source": [
        "pigiamie_titles"
      ],
      "metadata": {
        "colab": {
          "base_uri": "https://localhost:8080/"
        },
        "id": "AS4VligTa_sK",
        "outputId": "e875279d-6e81-4be0-8d8f-a4c135255d91"
      },
      "execution_count": 111,
      "outputs": [
        {
          "output_type": "execute_result",
          "data": {
            "text/plain": [
              "['Senior Software Engineer',\n",
              " 'Academic Cloud Advocate – Machine Learning and AI Developer',\n",
              " 'Academic Cloud Advocate – Developer tools and Application Architecture',\n",
              " 'Computer literate',\n",
              " 'Software Engineer – Karen, Kenya',\n",
              " 'Full Stack Software Developer',\n",
              " 'Database Administrator I',\n",
              " 'Mobile App Developer',\n",
              " 'Junior Data Analyst (Agriculture) – Nairobi, Kenya',\n",
              " 'Software Systems Supervisor - Urgent']"
            ]
          },
          "metadata": {},
          "execution_count": 111
        }
      ]
    },
    {
      "cell_type": "code",
      "metadata": {
        "id": "NNLbrng_3QfA"
      },
      "source": [
        "# # 2. Extracting job titles: my_job_mag\n",
        "# # ---\n",
        "# # \n",
        "# YOUR CODE GOES HERE"
      ],
      "execution_count": null,
      "outputs": []
    },
    {
      "cell_type": "code",
      "source": [
        "MyJobMag_titles = []\n",
        "\n",
        "titles = soup1.find_all('li', attrs={'class': 'mag-b'})\n",
        "for title in titles:\n",
        "    jobs = title.get_text().strip()\n",
        "    print(jobs)\n",
        "    MyJobMag_titles.append(jobs)"
      ],
      "metadata": {
        "colab": {
          "base_uri": "https://localhost:8080/"
        },
        "id": "fl9CMqVMAKq0",
        "outputId": "06742519-3cf5-4040-ddf9-5ce7afab84e5"
      },
      "execution_count": 112,
      "outputs": [
        {
          "output_type": "stream",
          "name": "stdout",
          "text": [
            "Information, Communication and Technology Officer at Nairobi Centre for International Arbitration\n",
            "Assistant Incubation Manager at Strathmore University\n",
            "Consultant, Information Security at TransUnion\n",
            "Technical Project Manager at Akvo\n",
            "Manager Risk Analytics at KCB Bank Kenya\n",
            "Product Manager - Timiza at Absa Bank Limited\n",
            "Senior DevOps Engineer (PHP) at Cytonn Investments\n",
            "Full Stack Developer - Node - Typescript - Nest at Fleetsimplify\n",
            "Director, Customer Solution Architect at Mastercard Foundation\n",
            "IT Support Technician at Kenya Airways\n",
            "Senior Software Engineer at DT One\n",
            "Senior Data Scientist at GOODINFO\n",
            "Lead Software Architect at GOODINFO\n",
            "Technology Operations Lead at GOODINFO\n",
            "Support Engineer (Financial Services IT) at Safaricom Kenya\n",
            "Information Systems Auditor at Metropol Corporation Ltd\n",
            "Digital Programming Lead at Plan International\n",
            "Digital Transformation Manager at Plan International\n"
          ]
        }
      ]
    },
    {
      "cell_type": "code",
      "source": [
        "results1 = soup1.find_all('li', attrs={'class': 'job-list-li'})\n",
        "results1[0]"
      ],
      "metadata": {
        "colab": {
          "base_uri": "https://localhost:8080/"
        },
        "id": "jQZL4Jgz74W3",
        "outputId": "46cd267e-2677-423e-ae8f-9d18237f17ec"
      },
      "execution_count": 113,
      "outputs": [
        {
          "output_type": "execute_result",
          "data": {
            "text/plain": [
              "<li class=\"job-list-li\">\n",
              "<ul>\n",
              "<li class=\"job-logo\">\n",
              "<a href=\"/jobs-at/nairobi-centre-for-international-arbitration\"><img alt=\"Nairobi Centre for International Arbitration logo\" height=\"auto\" src=\"/company_logo/86/38164Nairobi Centre for International Arbitration.png\" title=\"Nairobi Centre for International Arbitration logo\" width=\"100%\"/></a>\n",
              "</li>\n",
              "<li class=\"job-info\">\n",
              "<ul>\n",
              "<li class=\"mag-b\">\n",
              "<h2><a href=\"/job/information-communication-and-technology-officer-nairobi-centre-for-international-arbitration-1\">Information, Communication and Technology Officer at Nairobi Centre for International Arbitration</a></h2>\n",
              "</li>\n",
              "<li class=\"job-desc\">\n",
              "Job Purpose\n",
              "The job holder is responsible for evaluating connectivity issues, equipment, and software and\n",
              "hardware. Respond to ICT issues, hardware maintenance, software, networking. Provide helpd\n",
              "</li>\n",
              "<li class=\"job-item\">\n",
              "<ul>\n",
              "<li id=\"job-date\">26 January</li>\n",
              "</ul>\n",
              "</li>\n",
              "</ul>\n",
              "</li>\n",
              "</ul>\n",
              "</li>"
            ]
          },
          "metadata": {},
          "execution_count": 113
        }
      ]
    },
    {
      "cell_type": "code",
      "source": [
        "MyJobMag_url = []\n",
        "\n",
        "results1 = soup1.find_all('li', attrs={'class': 'mag-b'})\n",
        "\n",
        "for div in results1: \n",
        "  links = div.find_all('a')\n",
        "  for link in links:\n",
        "    url = 'https://www.myjobmag.co.ke/' + link.get('href')\n",
        "    print(url)\n",
        "    MyJobMag_url.append(url)"
      ],
      "metadata": {
        "colab": {
          "base_uri": "https://localhost:8080/"
        },
        "id": "D86e4W5VDDoW",
        "outputId": "fa5ded1a-53ee-424e-ed51-b9e4f7b5d3e6"
      },
      "execution_count": 114,
      "outputs": [
        {
          "output_type": "stream",
          "name": "stdout",
          "text": [
            "https://www.myjobmag.co.ke//job/information-communication-and-technology-officer-nairobi-centre-for-international-arbitration-1\n",
            "https://www.myjobmag.co.ke//job/assistant-incubation-manager-strathmore-university\n",
            "https://www.myjobmag.co.ke//job/consultant-information-security-transunion\n",
            "https://www.myjobmag.co.ke//job/technical-project-manager-akvo-1\n",
            "https://www.myjobmag.co.ke//job/manager-risk-analytics-kcb-bank-kenya\n",
            "https://www.myjobmag.co.ke//job/product-manager-timiza-absa-bank-limited-1\n",
            "https://www.myjobmag.co.ke//job/senior-devops-engineer-php-cytonn-investments\n",
            "https://www.myjobmag.co.ke//job/full-stack-developer-node-typescript-nest-fleetsimplify\n",
            "https://www.myjobmag.co.ke//job/director-customer-solution-architect-mastercard-foundation\n",
            "https://www.myjobmag.co.ke//job/it-support-technician-kenya-airways\n",
            "https://www.myjobmag.co.ke//job/senior-software-engineer-dt-one\n",
            "https://www.myjobmag.co.ke//job/senior-data-scientist-goodinfo\n",
            "https://www.myjobmag.co.ke//job/lead-software-architect-goodinfo\n",
            "https://www.myjobmag.co.ke//job/technology-operations-lead-goodinfo\n",
            "https://www.myjobmag.co.ke//job/support-engineer-financial-services-it-safaricom-kenya\n",
            "https://www.myjobmag.co.ke//job/information-systems-auditor-metropol-corporation-ltd\n",
            "https://www.myjobmag.co.ke//job/digital-programming-lead-plan-international\n",
            "https://www.myjobmag.co.ke//job/digital-transformation-manager-plan-international\n"
          ]
        }
      ]
    },
    {
      "cell_type": "code",
      "metadata": {
        "id": "I0fQKn63QV0R"
      },
      "source": [
        "# # 3. Extracting job titles: kenya_job\n",
        "# # ---\n",
        "# #\n",
        "# YOUR CODE GOES HERE"
      ],
      "execution_count": null,
      "outputs": []
    },
    {
      "cell_type": "code",
      "source": [
        "KenyanJob_titles = []\n",
        "\n",
        "results2 = soup2.find_all('div', attrs={'class': 'col-lg-5 col-md-5 col-sm-5 col-xs-12 job-title'})\n",
        "\n",
        "for div in results2: \n",
        "  links = div.find_all('h5')\n",
        "  for link in links:\n",
        "    title =  link.get_text().strip()\n",
        "    KenyanJob_titles.append(title)"
      ],
      "metadata": {
        "id": "UtcvUwIU_Cmv"
      },
      "execution_count": 115,
      "outputs": []
    },
    {
      "cell_type": "code",
      "source": [
        "KenyanJob_titles"
      ],
      "metadata": {
        "colab": {
          "base_uri": "https://localhost:8080/"
        },
        "id": "z9itYIhw46ep",
        "outputId": "9c203d22-a37d-4704-cc10-cd354fbe407d"
      },
      "execution_count": 116,
      "outputs": [
        {
          "output_type": "execute_result",
          "data": {
            "text/plain": [
              "['Senior Software Engineer- Substrate App Platform',\n",
              " 'Consulting Account Manager',\n",
              " 'Busine`ss Development Manager - International Organisations',\n",
              " 'Company Telephone Receptionist',\n",
              " 'Enterprise Architect',\n",
              " 'Mid Level Data Scientist',\n",
              " 'Senior Data Engineer',\n",
              " 'HR Business Partner (Operations)',\n",
              " 'HR Operations Associate',\n",
              " 'Group Head - IT Infrastructure',\n",
              " 'Mid Level Process Analyst',\n",
              " 'Core Banking Application Developer (Finacle)',\n",
              " 'Sales Support Executive',\n",
              " 'Director of Chaos Engineering - Ubuntu & Distributed Systems',\n",
              " 'Software Engineer, Ceph & Distributed Storage',\n",
              " 'Global Head of Performance Engineering',\n",
              " 'Distributed Systems Golang Engineer',\n",
              " 'Dedicated Linux Engineer, EMEA',\n",
              " 'Embedded Linux Consulting Engineering Director',\n",
              " 'BootStack APAC Engineering Manager',\n",
              " 'Growth Engineer - Marketing Automation',\n",
              " 'Director, DevOps Engineering',\n",
              " 'DevOps Engineer',\n",
              " 'Go Software Engineer, Commercial Systems',\n",
              " 'Site Reliability Engineering Manager']"
            ]
          },
          "metadata": {},
          "execution_count": 116
        }
      ]
    },
    {
      "cell_type": "code",
      "source": [
        "KenyanJob_url = []\n",
        "\n",
        "results2 = soup2.find_all('div', attrs={'class': 'col-lg-5 col-md-5 col-sm-5 col-xs-12 job-title'})\n",
        "\n",
        "for div in results2: \n",
        "  links = div.find_all('a')\n",
        "  for link in links:\n",
        "    url = 'https://www.kenyajob.com/' + link.get('href')\n",
        "    KenyanJob_url.append(url)\n"
      ],
      "metadata": {
        "id": "F8-jH_Y22XHE"
      },
      "execution_count": 122,
      "outputs": []
    },
    {
      "cell_type": "code",
      "source": [
        "KenyanJob_url"
      ],
      "metadata": {
        "colab": {
          "base_uri": "https://localhost:8080/"
        },
        "id": "jZyTQs215CpB",
        "outputId": "f8618de6-bca5-4963-ba28-e491e091a380"
      },
      "execution_count": 123,
      "outputs": [
        {
          "output_type": "execute_result",
          "data": {
            "text/plain": [
              "['https://www.kenyajob.com//job-vacancies-kenya/senior-software-engineer-substrate-app-platform-95719',\n",
              " 'https://www.kenyajob.com//recruiter/27486',\n",
              " 'https://www.kenyajob.com//job-vacancies-kenya/consulting-account-manager-95720',\n",
              " 'https://www.kenyajob.com//recruiter/27486',\n",
              " 'https://www.kenyajob.com//job-vacancies-kenya/business-development-manager-international-organisations-95722',\n",
              " 'https://www.kenyajob.com//recruiter/27486',\n",
              " 'https://www.kenyajob.com//job-vacancies-kenya/company-telephone-receptionist-90793',\n",
              " 'https://www.kenyajob.com//recruiter/78243',\n",
              " 'https://www.kenyajob.com//job-vacancies-kenya/enterprise-architect-96258',\n",
              " 'https://www.kenyajob.com//recruiter/92185',\n",
              " 'https://www.kenyajob.com//job-vacancies-kenya/mid-level-data-scientist-96259',\n",
              " 'https://www.kenyajob.com//recruiter/92185',\n",
              " 'https://www.kenyajob.com//job-vacancies-kenya/senior-data-engineer-96261',\n",
              " 'https://www.kenyajob.com//recruiter/92185',\n",
              " 'https://www.kenyajob.com//job-vacancies-kenya/hr-business-partner-operations-96263',\n",
              " 'https://www.kenyajob.com//recruiter/92185',\n",
              " 'https://www.kenyajob.com//job-vacancies-kenya/hr-operations-associate-96265',\n",
              " 'https://www.kenyajob.com//recruiter/92185',\n",
              " 'https://www.kenyajob.com//job-vacancies-kenya/group-head-it-infrastructure-96266',\n",
              " 'https://www.kenyajob.com//recruiter/92185',\n",
              " 'https://www.kenyajob.com//job-vacancies-kenya/mid-level-process-analyst-96267',\n",
              " 'https://www.kenyajob.com//recruiter/92185',\n",
              " 'https://www.kenyajob.com//job-vacancies-kenya/core-banking-application-developer-finacle-96268',\n",
              " 'https://www.kenyajob.com//recruiter/92185',\n",
              " 'https://www.kenyajob.com//job-vacancies-kenya/sales-support-executive-95200',\n",
              " 'https://www.kenyajob.com//recruiter/95191',\n",
              " 'https://www.kenyajob.com//job-vacancies-kenya/director-chaos-engineering-ubuntu-distributed-systems-95160',\n",
              " 'https://www.kenyajob.com//recruiter/95092',\n",
              " 'https://www.kenyajob.com//job-vacancies-kenya/software-engineer-ceph-distributed-storage-95161',\n",
              " 'https://www.kenyajob.com//recruiter/95092',\n",
              " 'https://www.kenyajob.com//job-vacancies-kenya/global-head-performance-engineering-95162',\n",
              " 'https://www.kenyajob.com//recruiter/95092',\n",
              " 'https://www.kenyajob.com//job-vacancies-kenya/distributed-systems-golang-engineer-95163',\n",
              " 'https://www.kenyajob.com//recruiter/95092',\n",
              " 'https://www.kenyajob.com//job-vacancies-kenya/dedicated-linux-engineer-emea-95164',\n",
              " 'https://www.kenyajob.com//recruiter/95092',\n",
              " 'https://www.kenyajob.com//job-vacancies-kenya/embedded-linux-consulting-engineering-director-95166',\n",
              " 'https://www.kenyajob.com//recruiter/95092',\n",
              " 'https://www.kenyajob.com//job-vacancies-kenya/bootstack-apac-engineering-manager-95167',\n",
              " 'https://www.kenyajob.com//recruiter/95092',\n",
              " 'https://www.kenyajob.com//job-vacancies-kenya/growth-engineer-marketing-automation-95168',\n",
              " 'https://www.kenyajob.com//recruiter/95092',\n",
              " 'https://www.kenyajob.com//job-vacancies-kenya/director-devops-engineering-95170',\n",
              " 'https://www.kenyajob.com//recruiter/95092',\n",
              " 'https://www.kenyajob.com//job-vacancies-kenya/devops-engineer-95171',\n",
              " 'https://www.kenyajob.com//recruiter/95092',\n",
              " 'https://www.kenyajob.com//job-vacancies-kenya/go-software-engineer-commercial-systems-95172',\n",
              " 'https://www.kenyajob.com//recruiter/95092',\n",
              " 'https://www.kenyajob.com//job-vacancies-kenya/site-reliability-engineering-manager-95173',\n",
              " 'https://www.kenyajob.com//recruiter/95092']"
            ]
          },
          "metadata": {},
          "execution_count": 123
        }
      ]
    },
    {
      "cell_type": "markdown",
      "metadata": {
        "id": "7ePXABAihaKn"
      },
      "source": [
        "## <font color='#2F4F4F'>Step 4: Saving our Data</font>"
      ]
    },
    {
      "cell_type": "code",
      "metadata": {
        "id": "fsG9pQXk5f8y",
        "colab": {
          "base_uri": "https://localhost:8080/",
          "height": 284
        },
        "outputId": "809d0ef6-63d5-410e-fd68-377ad07e29a8"
      },
      "source": [
        "# Saving the scraped contents in a dataframe and preview our data\n",
        "# ---\n",
        "#\n",
        "pigiamie_df = pd.DataFrame({\"link_content\": pigiamie_titles, \"link_url\": pigiamie_url})\n",
        "pigiamie_df.head()"
      ],
      "execution_count": 117,
      "outputs": [
        {
          "output_type": "execute_result",
          "data": {
            "text/html": [
              "\n",
              "  <div id=\"df-021149d8-7ba9-4ca9-b5b0-a6d58ff9ead6\">\n",
              "    <div class=\"colab-df-container\">\n",
              "      <div>\n",
              "<style scoped>\n",
              "    .dataframe tbody tr th:only-of-type {\n",
              "        vertical-align: middle;\n",
              "    }\n",
              "\n",
              "    .dataframe tbody tr th {\n",
              "        vertical-align: top;\n",
              "    }\n",
              "\n",
              "    .dataframe thead th {\n",
              "        text-align: right;\n",
              "    }\n",
              "</style>\n",
              "<table border=\"1\" class=\"dataframe\">\n",
              "  <thead>\n",
              "    <tr style=\"text-align: right;\">\n",
              "      <th></th>\n",
              "      <th>link_content</th>\n",
              "      <th>link_url</th>\n",
              "    </tr>\n",
              "  </thead>\n",
              "  <tbody>\n",
              "    <tr>\n",
              "      <th>0</th>\n",
              "      <td>Senior Software Engineer</td>\n",
              "      <td>https://www.pigiame.co.ke/listings/senior-software-engineer-3887056</td>\n",
              "    </tr>\n",
              "    <tr>\n",
              "      <th>1</th>\n",
              "      <td>Academic Cloud Advocate – Machine Learning and AI Developer</td>\n",
              "      <td>https://www.pigiame.co.ke/listings/academic-cloud-advocate-machine-learning-and-ai-developer-3887037</td>\n",
              "    </tr>\n",
              "    <tr>\n",
              "      <th>2</th>\n",
              "      <td>Academic Cloud Advocate – Developer tools and Application Architecture</td>\n",
              "      <td>https://www.pigiame.co.ke/listings/academic-cloud-advocate-developer-tools-and-application-architecture-3887022</td>\n",
              "    </tr>\n",
              "    <tr>\n",
              "      <th>3</th>\n",
              "      <td>Computer literate</td>\n",
              "      <td>https://www.pigiame.co.ke/listings/computer-literate-3884819</td>\n",
              "    </tr>\n",
              "    <tr>\n",
              "      <th>4</th>\n",
              "      <td>Software Engineer – Karen, Kenya</td>\n",
              "      <td>https://www.pigiame.co.ke/listings/software-engineer-karen-kenya-3881204</td>\n",
              "    </tr>\n",
              "  </tbody>\n",
              "</table>\n",
              "</div>\n",
              "      <button class=\"colab-df-convert\" onclick=\"convertToInteractive('df-021149d8-7ba9-4ca9-b5b0-a6d58ff9ead6')\"\n",
              "              title=\"Convert this dataframe to an interactive table.\"\n",
              "              style=\"display:none;\">\n",
              "        \n",
              "  <svg xmlns=\"http://www.w3.org/2000/svg\" height=\"24px\"viewBox=\"0 0 24 24\"\n",
              "       width=\"24px\">\n",
              "    <path d=\"M0 0h24v24H0V0z\" fill=\"none\"/>\n",
              "    <path d=\"M18.56 5.44l.94 2.06.94-2.06 2.06-.94-2.06-.94-.94-2.06-.94 2.06-2.06.94zm-11 1L8.5 8.5l.94-2.06 2.06-.94-2.06-.94L8.5 2.5l-.94 2.06-2.06.94zm10 10l.94 2.06.94-2.06 2.06-.94-2.06-.94-.94-2.06-.94 2.06-2.06.94z\"/><path d=\"M17.41 7.96l-1.37-1.37c-.4-.4-.92-.59-1.43-.59-.52 0-1.04.2-1.43.59L10.3 9.45l-7.72 7.72c-.78.78-.78 2.05 0 2.83L4 21.41c.39.39.9.59 1.41.59.51 0 1.02-.2 1.41-.59l7.78-7.78 2.81-2.81c.8-.78.8-2.07 0-2.86zM5.41 20L4 18.59l7.72-7.72 1.47 1.35L5.41 20z\"/>\n",
              "  </svg>\n",
              "      </button>\n",
              "      \n",
              "  <style>\n",
              "    .colab-df-container {\n",
              "      display:flex;\n",
              "      flex-wrap:wrap;\n",
              "      gap: 12px;\n",
              "    }\n",
              "\n",
              "    .colab-df-convert {\n",
              "      background-color: #E8F0FE;\n",
              "      border: none;\n",
              "      border-radius: 50%;\n",
              "      cursor: pointer;\n",
              "      display: none;\n",
              "      fill: #1967D2;\n",
              "      height: 32px;\n",
              "      padding: 0 0 0 0;\n",
              "      width: 32px;\n",
              "    }\n",
              "\n",
              "    .colab-df-convert:hover {\n",
              "      background-color: #E2EBFA;\n",
              "      box-shadow: 0px 1px 2px rgba(60, 64, 67, 0.3), 0px 1px 3px 1px rgba(60, 64, 67, 0.15);\n",
              "      fill: #174EA6;\n",
              "    }\n",
              "\n",
              "    [theme=dark] .colab-df-convert {\n",
              "      background-color: #3B4455;\n",
              "      fill: #D2E3FC;\n",
              "    }\n",
              "\n",
              "    [theme=dark] .colab-df-convert:hover {\n",
              "      background-color: #434B5C;\n",
              "      box-shadow: 0px 1px 3px 1px rgba(0, 0, 0, 0.15);\n",
              "      filter: drop-shadow(0px 1px 2px rgba(0, 0, 0, 0.3));\n",
              "      fill: #FFFFFF;\n",
              "    }\n",
              "  </style>\n",
              "\n",
              "      <script>\n",
              "        const buttonEl =\n",
              "          document.querySelector('#df-021149d8-7ba9-4ca9-b5b0-a6d58ff9ead6 button.colab-df-convert');\n",
              "        buttonEl.style.display =\n",
              "          google.colab.kernel.accessAllowed ? 'block' : 'none';\n",
              "\n",
              "        async function convertToInteractive(key) {\n",
              "          const element = document.querySelector('#df-021149d8-7ba9-4ca9-b5b0-a6d58ff9ead6');\n",
              "          const dataTable =\n",
              "            await google.colab.kernel.invokeFunction('convertToInteractive',\n",
              "                                                     [key], {});\n",
              "          if (!dataTable) return;\n",
              "\n",
              "          const docLinkHtml = 'Like what you see? Visit the ' +\n",
              "            '<a target=\"_blank\" href=https://colab.research.google.com/notebooks/data_table.ipynb>data table notebook</a>'\n",
              "            + ' to learn more about interactive tables.';\n",
              "          element.innerHTML = '';\n",
              "          dataTable['output_type'] = 'display_data';\n",
              "          await google.colab.output.renderOutput(dataTable, element);\n",
              "          const docLink = document.createElement('div');\n",
              "          docLink.innerHTML = docLinkHtml;\n",
              "          element.appendChild(docLink);\n",
              "        }\n",
              "      </script>\n",
              "    </div>\n",
              "  </div>\n",
              "  "
            ],
            "text/plain": [
              "                                                             link_content                                                                                                         link_url\n",
              "0                                                Senior Software Engineer                                              https://www.pigiame.co.ke/listings/senior-software-engineer-3887056\n",
              "1             Academic Cloud Advocate – Machine Learning and AI Developer             https://www.pigiame.co.ke/listings/academic-cloud-advocate-machine-learning-and-ai-developer-3887037\n",
              "2  Academic Cloud Advocate – Developer tools and Application Architecture  https://www.pigiame.co.ke/listings/academic-cloud-advocate-developer-tools-and-application-architecture-3887022\n",
              "3                                                       Computer literate                                                     https://www.pigiame.co.ke/listings/computer-literate-3884819\n",
              "4                                        Software Engineer – Karen, Kenya                                         https://www.pigiame.co.ke/listings/software-engineer-karen-kenya-3881204"
            ]
          },
          "metadata": {},
          "execution_count": 117
        }
      ]
    },
    {
      "cell_type": "code",
      "source": [
        "MyJobMag_df = pd.DataFrame({\"link_content\": MyJobMag_titles, \"link_url\": MyJobMag_url})\n",
        "MyJobMag_df.head()"
      ],
      "metadata": {
        "colab": {
          "base_uri": "https://localhost:8080/",
          "height": 267
        },
        "id": "ny0mJZzkLxbx",
        "outputId": "5b176952-247c-4283-daf9-33bb4311b9c9"
      },
      "execution_count": 118,
      "outputs": [
        {
          "output_type": "execute_result",
          "data": {
            "text/html": [
              "\n",
              "  <div id=\"df-b3fa427c-c68e-400a-8d1f-2bffe6e4cf32\">\n",
              "    <div class=\"colab-df-container\">\n",
              "      <div>\n",
              "<style scoped>\n",
              "    .dataframe tbody tr th:only-of-type {\n",
              "        vertical-align: middle;\n",
              "    }\n",
              "\n",
              "    .dataframe tbody tr th {\n",
              "        vertical-align: top;\n",
              "    }\n",
              "\n",
              "    .dataframe thead th {\n",
              "        text-align: right;\n",
              "    }\n",
              "</style>\n",
              "<table border=\"1\" class=\"dataframe\">\n",
              "  <thead>\n",
              "    <tr style=\"text-align: right;\">\n",
              "      <th></th>\n",
              "      <th>link_content</th>\n",
              "      <th>link_url</th>\n",
              "    </tr>\n",
              "  </thead>\n",
              "  <tbody>\n",
              "    <tr>\n",
              "      <th>0</th>\n",
              "      <td>Information, Communication and Technology Officer at Nairobi Centre for International Arbitration</td>\n",
              "      <td>https://www.myjobmag.co.ke//job/information-communication-and-technology-officer-nairobi-centre-for-international-arbitration-1</td>\n",
              "    </tr>\n",
              "    <tr>\n",
              "      <th>1</th>\n",
              "      <td>Assistant Incubation Manager at Strathmore University</td>\n",
              "      <td>https://www.myjobmag.co.ke//job/assistant-incubation-manager-strathmore-university</td>\n",
              "    </tr>\n",
              "    <tr>\n",
              "      <th>2</th>\n",
              "      <td>Consultant, Information Security at TransUnion</td>\n",
              "      <td>https://www.myjobmag.co.ke//job/consultant-information-security-transunion</td>\n",
              "    </tr>\n",
              "    <tr>\n",
              "      <th>3</th>\n",
              "      <td>Technical Project Manager at Akvo</td>\n",
              "      <td>https://www.myjobmag.co.ke//job/technical-project-manager-akvo-1</td>\n",
              "    </tr>\n",
              "    <tr>\n",
              "      <th>4</th>\n",
              "      <td>Manager Risk Analytics at KCB Bank Kenya</td>\n",
              "      <td>https://www.myjobmag.co.ke//job/manager-risk-analytics-kcb-bank-kenya</td>\n",
              "    </tr>\n",
              "  </tbody>\n",
              "</table>\n",
              "</div>\n",
              "      <button class=\"colab-df-convert\" onclick=\"convertToInteractive('df-b3fa427c-c68e-400a-8d1f-2bffe6e4cf32')\"\n",
              "              title=\"Convert this dataframe to an interactive table.\"\n",
              "              style=\"display:none;\">\n",
              "        \n",
              "  <svg xmlns=\"http://www.w3.org/2000/svg\" height=\"24px\"viewBox=\"0 0 24 24\"\n",
              "       width=\"24px\">\n",
              "    <path d=\"M0 0h24v24H0V0z\" fill=\"none\"/>\n",
              "    <path d=\"M18.56 5.44l.94 2.06.94-2.06 2.06-.94-2.06-.94-.94-2.06-.94 2.06-2.06.94zm-11 1L8.5 8.5l.94-2.06 2.06-.94-2.06-.94L8.5 2.5l-.94 2.06-2.06.94zm10 10l.94 2.06.94-2.06 2.06-.94-2.06-.94-.94-2.06-.94 2.06-2.06.94z\"/><path d=\"M17.41 7.96l-1.37-1.37c-.4-.4-.92-.59-1.43-.59-.52 0-1.04.2-1.43.59L10.3 9.45l-7.72 7.72c-.78.78-.78 2.05 0 2.83L4 21.41c.39.39.9.59 1.41.59.51 0 1.02-.2 1.41-.59l7.78-7.78 2.81-2.81c.8-.78.8-2.07 0-2.86zM5.41 20L4 18.59l7.72-7.72 1.47 1.35L5.41 20z\"/>\n",
              "  </svg>\n",
              "      </button>\n",
              "      \n",
              "  <style>\n",
              "    .colab-df-container {\n",
              "      display:flex;\n",
              "      flex-wrap:wrap;\n",
              "      gap: 12px;\n",
              "    }\n",
              "\n",
              "    .colab-df-convert {\n",
              "      background-color: #E8F0FE;\n",
              "      border: none;\n",
              "      border-radius: 50%;\n",
              "      cursor: pointer;\n",
              "      display: none;\n",
              "      fill: #1967D2;\n",
              "      height: 32px;\n",
              "      padding: 0 0 0 0;\n",
              "      width: 32px;\n",
              "    }\n",
              "\n",
              "    .colab-df-convert:hover {\n",
              "      background-color: #E2EBFA;\n",
              "      box-shadow: 0px 1px 2px rgba(60, 64, 67, 0.3), 0px 1px 3px 1px rgba(60, 64, 67, 0.15);\n",
              "      fill: #174EA6;\n",
              "    }\n",
              "\n",
              "    [theme=dark] .colab-df-convert {\n",
              "      background-color: #3B4455;\n",
              "      fill: #D2E3FC;\n",
              "    }\n",
              "\n",
              "    [theme=dark] .colab-df-convert:hover {\n",
              "      background-color: #434B5C;\n",
              "      box-shadow: 0px 1px 3px 1px rgba(0, 0, 0, 0.15);\n",
              "      filter: drop-shadow(0px 1px 2px rgba(0, 0, 0, 0.3));\n",
              "      fill: #FFFFFF;\n",
              "    }\n",
              "  </style>\n",
              "\n",
              "      <script>\n",
              "        const buttonEl =\n",
              "          document.querySelector('#df-b3fa427c-c68e-400a-8d1f-2bffe6e4cf32 button.colab-df-convert');\n",
              "        buttonEl.style.display =\n",
              "          google.colab.kernel.accessAllowed ? 'block' : 'none';\n",
              "\n",
              "        async function convertToInteractive(key) {\n",
              "          const element = document.querySelector('#df-b3fa427c-c68e-400a-8d1f-2bffe6e4cf32');\n",
              "          const dataTable =\n",
              "            await google.colab.kernel.invokeFunction('convertToInteractive',\n",
              "                                                     [key], {});\n",
              "          if (!dataTable) return;\n",
              "\n",
              "          const docLinkHtml = 'Like what you see? Visit the ' +\n",
              "            '<a target=\"_blank\" href=https://colab.research.google.com/notebooks/data_table.ipynb>data table notebook</a>'\n",
              "            + ' to learn more about interactive tables.';\n",
              "          element.innerHTML = '';\n",
              "          dataTable['output_type'] = 'display_data';\n",
              "          await google.colab.output.renderOutput(dataTable, element);\n",
              "          const docLink = document.createElement('div');\n",
              "          docLink.innerHTML = docLinkHtml;\n",
              "          element.appendChild(docLink);\n",
              "        }\n",
              "      </script>\n",
              "    </div>\n",
              "  </div>\n",
              "  "
            ],
            "text/plain": [
              "                                                                                        link_content                                                                                                                         link_url\n",
              "0  Information, Communication and Technology Officer at Nairobi Centre for International Arbitration  https://www.myjobmag.co.ke//job/information-communication-and-technology-officer-nairobi-centre-for-international-arbitration-1\n",
              "1                                              Assistant Incubation Manager at Strathmore University                                               https://www.myjobmag.co.ke//job/assistant-incubation-manager-strathmore-university\n",
              "2                                                     Consultant, Information Security at TransUnion                                                       https://www.myjobmag.co.ke//job/consultant-information-security-transunion\n",
              "3                                                                  Technical Project Manager at Akvo                                                                 https://www.myjobmag.co.ke//job/technical-project-manager-akvo-1\n",
              "4                                                           Manager Risk Analytics at KCB Bank Kenya                                                            https://www.myjobmag.co.ke//job/manager-risk-analytics-kcb-bank-kenya"
            ]
          },
          "metadata": {},
          "execution_count": 118
        }
      ]
    },
    {
      "cell_type": "code",
      "source": [
        "KenyanJob_df = pd.DataFrame({\"link_content\": KenyanJob_titles})\n",
        "KenyanJob_df.head()"
      ],
      "metadata": {
        "id": "qXXlW01GRjQG",
        "colab": {
          "base_uri": "https://localhost:8080/",
          "height": 206
        },
        "outputId": "42cad03d-bc0e-4db4-dcc9-811edd250073"
      },
      "execution_count": 121,
      "outputs": [
        {
          "output_type": "execute_result",
          "data": {
            "text/html": [
              "\n",
              "  <div id=\"df-6b7b50ed-ef52-46da-ae72-f2ed0942797c\">\n",
              "    <div class=\"colab-df-container\">\n",
              "      <div>\n",
              "<style scoped>\n",
              "    .dataframe tbody tr th:only-of-type {\n",
              "        vertical-align: middle;\n",
              "    }\n",
              "\n",
              "    .dataframe tbody tr th {\n",
              "        vertical-align: top;\n",
              "    }\n",
              "\n",
              "    .dataframe thead th {\n",
              "        text-align: right;\n",
              "    }\n",
              "</style>\n",
              "<table border=\"1\" class=\"dataframe\">\n",
              "  <thead>\n",
              "    <tr style=\"text-align: right;\">\n",
              "      <th></th>\n",
              "      <th>link_content</th>\n",
              "    </tr>\n",
              "  </thead>\n",
              "  <tbody>\n",
              "    <tr>\n",
              "      <th>0</th>\n",
              "      <td>Senior Software Engineer- Substrate App Platform</td>\n",
              "    </tr>\n",
              "    <tr>\n",
              "      <th>1</th>\n",
              "      <td>Consulting Account Manager</td>\n",
              "    </tr>\n",
              "    <tr>\n",
              "      <th>2</th>\n",
              "      <td>Busine`ss Development Manager - International Organisations</td>\n",
              "    </tr>\n",
              "    <tr>\n",
              "      <th>3</th>\n",
              "      <td>Company Telephone Receptionist</td>\n",
              "    </tr>\n",
              "    <tr>\n",
              "      <th>4</th>\n",
              "      <td>Enterprise Architect</td>\n",
              "    </tr>\n",
              "  </tbody>\n",
              "</table>\n",
              "</div>\n",
              "      <button class=\"colab-df-convert\" onclick=\"convertToInteractive('df-6b7b50ed-ef52-46da-ae72-f2ed0942797c')\"\n",
              "              title=\"Convert this dataframe to an interactive table.\"\n",
              "              style=\"display:none;\">\n",
              "        \n",
              "  <svg xmlns=\"http://www.w3.org/2000/svg\" height=\"24px\"viewBox=\"0 0 24 24\"\n",
              "       width=\"24px\">\n",
              "    <path d=\"M0 0h24v24H0V0z\" fill=\"none\"/>\n",
              "    <path d=\"M18.56 5.44l.94 2.06.94-2.06 2.06-.94-2.06-.94-.94-2.06-.94 2.06-2.06.94zm-11 1L8.5 8.5l.94-2.06 2.06-.94-2.06-.94L8.5 2.5l-.94 2.06-2.06.94zm10 10l.94 2.06.94-2.06 2.06-.94-2.06-.94-.94-2.06-.94 2.06-2.06.94z\"/><path d=\"M17.41 7.96l-1.37-1.37c-.4-.4-.92-.59-1.43-.59-.52 0-1.04.2-1.43.59L10.3 9.45l-7.72 7.72c-.78.78-.78 2.05 0 2.83L4 21.41c.39.39.9.59 1.41.59.51 0 1.02-.2 1.41-.59l7.78-7.78 2.81-2.81c.8-.78.8-2.07 0-2.86zM5.41 20L4 18.59l7.72-7.72 1.47 1.35L5.41 20z\"/>\n",
              "  </svg>\n",
              "      </button>\n",
              "      \n",
              "  <style>\n",
              "    .colab-df-container {\n",
              "      display:flex;\n",
              "      flex-wrap:wrap;\n",
              "      gap: 12px;\n",
              "    }\n",
              "\n",
              "    .colab-df-convert {\n",
              "      background-color: #E8F0FE;\n",
              "      border: none;\n",
              "      border-radius: 50%;\n",
              "      cursor: pointer;\n",
              "      display: none;\n",
              "      fill: #1967D2;\n",
              "      height: 32px;\n",
              "      padding: 0 0 0 0;\n",
              "      width: 32px;\n",
              "    }\n",
              "\n",
              "    .colab-df-convert:hover {\n",
              "      background-color: #E2EBFA;\n",
              "      box-shadow: 0px 1px 2px rgba(60, 64, 67, 0.3), 0px 1px 3px 1px rgba(60, 64, 67, 0.15);\n",
              "      fill: #174EA6;\n",
              "    }\n",
              "\n",
              "    [theme=dark] .colab-df-convert {\n",
              "      background-color: #3B4455;\n",
              "      fill: #D2E3FC;\n",
              "    }\n",
              "\n",
              "    [theme=dark] .colab-df-convert:hover {\n",
              "      background-color: #434B5C;\n",
              "      box-shadow: 0px 1px 3px 1px rgba(0, 0, 0, 0.15);\n",
              "      filter: drop-shadow(0px 1px 2px rgba(0, 0, 0, 0.3));\n",
              "      fill: #FFFFFF;\n",
              "    }\n",
              "  </style>\n",
              "\n",
              "      <script>\n",
              "        const buttonEl =\n",
              "          document.querySelector('#df-6b7b50ed-ef52-46da-ae72-f2ed0942797c button.colab-df-convert');\n",
              "        buttonEl.style.display =\n",
              "          google.colab.kernel.accessAllowed ? 'block' : 'none';\n",
              "\n",
              "        async function convertToInteractive(key) {\n",
              "          const element = document.querySelector('#df-6b7b50ed-ef52-46da-ae72-f2ed0942797c');\n",
              "          const dataTable =\n",
              "            await google.colab.kernel.invokeFunction('convertToInteractive',\n",
              "                                                     [key], {});\n",
              "          if (!dataTable) return;\n",
              "\n",
              "          const docLinkHtml = 'Like what you see? Visit the ' +\n",
              "            '<a target=\"_blank\" href=https://colab.research.google.com/notebooks/data_table.ipynb>data table notebook</a>'\n",
              "            + ' to learn more about interactive tables.';\n",
              "          element.innerHTML = '';\n",
              "          dataTable['output_type'] = 'display_data';\n",
              "          await google.colab.output.renderOutput(dataTable, element);\n",
              "          const docLink = document.createElement('div');\n",
              "          docLink.innerHTML = docLinkHtml;\n",
              "          element.appendChild(docLink);\n",
              "        }\n",
              "      </script>\n",
              "    </div>\n",
              "  </div>\n",
              "  "
            ],
            "text/plain": [
              "                                                  link_content\n",
              "0             Senior Software Engineer- Substrate App Platform\n",
              "1                                   Consulting Account Manager\n",
              "2  Busine`ss Development Manager - International Organisations\n",
              "3                               Company Telephone Receptionist\n",
              "4                                         Enterprise Architect"
            ]
          },
          "metadata": {},
          "execution_count": 121
        }
      ]
    }
  ]
}